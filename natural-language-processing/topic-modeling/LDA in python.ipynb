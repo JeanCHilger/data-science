{
 "cells": [
  {
   "cell_type": "markdown",
   "metadata": {},
   "source": [
    "# Todo\n",
    "\n",
    "- [ ] Write about dirichlet distributions;"
   ]
  },
  {
   "cell_type": "markdown",
   "metadata": {},
   "source": [
    "## Dataset loading"
   ]
  },
  {
   "cell_type": "code",
   "execution_count": 2,
   "metadata": {},
   "outputs": [],
   "source": [
    "dataset_path = '../../datasets/abcnews-date-text.csv'"
   ]
  },
  {
   "cell_type": "markdown",
   "metadata": {},
   "source": [
    "First, the dataset will be loaded:"
   ]
  },
  {
   "cell_type": "code",
   "execution_count": 3,
   "metadata": {},
   "outputs": [],
   "source": [
    "import pandas as pd\n",
    "\n",
    "data = pd.read_csv(dataset_path, error_bad_lines=False)\n",
    "data_text = data[['headline_text']]\n",
    "data_text['index'] = data_text.index\n",
    "\n",
    "documents = data_text"
   ]
  },
  {
   "cell_type": "code",
   "execution_count": 8,
   "metadata": {},
   "outputs": [
    {
     "name": "stdout",
     "output_type": "stream",
     "text": [
      "1186018\n",
      "                                       headline_text  index\n",
      "0  aba decides against community broadcasting lic...      0\n",
      "1     act fire witnesses must be aware of defamation      1\n",
      "2     a g calls for infrastructure protection summit      2\n",
      "3           air nz staff in aust strike for pay rise      3\n",
      "4      air nz strike to affect australian travellers      4\n"
     ]
    }
   ],
   "source": [
    "print(len(documents))\n",
    "print(documents.head())"
   ]
  },
  {
   "cell_type": "markdown",
   "metadata": {},
   "source": []
  },
  {
   "cell_type": "markdown",
   "metadata": {},
   "source": [
    "## Tokenization, Lemmatization and Stemming"
   ]
  },
  {
   "cell_type": "code",
   "execution_count": 19,
   "metadata": {},
   "outputs": [
    {
     "name": "stderr",
     "output_type": "stream",
     "text": [
      "[nltk_data] Downloading package wordnet to /home/jean/nltk_data...\n",
      "[nltk_data]   Package wordnet is already up-to-date!\n"
     ]
    },
    {
     "data": {
      "text/plain": [
       "True"
      ]
     },
     "execution_count": 19,
     "metadata": {},
     "output_type": "execute_result"
    }
   ],
   "source": [
    "import gensim\n",
    "import numpy as np\n",
    "import nltk\n",
    "\n",
    "from gensim.utils import simple_preprocess\n",
    "from gensim.parsing.preprocessing import STOPWORDS\n",
    "\n",
    "from nltk.stem import WordNetLemmatizer\n",
    "from nltk.stem.porter import *\n",
    "\n",
    "np.random.seed(2018)\n",
    "nltk.download('wordnet')"
   ]
  },
  {
   "cell_type": "code",
   "execution_count": 20,
   "metadata": {},
   "outputs": [],
   "source": [
    "# Performs lemmatization and stemming in the given text\n",
    "def lemmatize_stemming(text):\n",
    "    return PorterStemmer().stem(\n",
    "        WordNetLemmatizer().lemmatize(text, pos='v')\n",
    "    )\n",
    "\n",
    "# Preprocess the given text, performing tokenization,\n",
    "# lemmatization, stemming and stopwords removal.\n",
    "def preprocess(text):\n",
    "    result = []\n",
    "    for token in simple_preprocess(text):\n",
    "        if token not in STOPWORDS and len(token) > 3:\n",
    "            result.append(lemmatize_stemming(token))\n",
    "    return result"
   ]
  },
  {
   "cell_type": "markdown",
   "metadata": {},
   "source": [
    "Using the previously created functions, we get:"
   ]
  },
  {
   "cell_type": "code",
   "execution_count": 42,
   "metadata": {},
   "outputs": [
    {
     "data": {
      "text/plain": [
       "0        [decid, commun, broadcast, licenc]\n",
       "1                        [wit, awar, defam]\n",
       "2    [call, infrastructur, protect, summit]\n",
       "3               [staff, aust, strike, rise]\n",
       "4      [strike, affect, australian, travel]\n",
       "Name: headline_text, dtype: object"
      ]
     },
     "execution_count": 42,
     "metadata": {},
     "output_type": "execute_result"
    }
   ],
   "source": [
    "processed_docs = documents['headline_text'].map(preprocess)\n",
    "processed_docs.head()"
   ]
  },
  {
   "cell_type": "markdown",
   "metadata": {},
   "source": [
    "## Create Bag of Words Model"
   ]
  },
  {
   "cell_type": "code",
   "execution_count": 43,
   "metadata": {},
   "outputs": [
    {
     "name": "stdout",
     "output_type": "stream",
     "text": [
      "[(3847, 1), (5968, 1), (9498, 1), (13251, 1)]\n"
     ]
    }
   ],
   "source": [
    "dictionary = gensim.corpora.Dictionary(processed_docs)\n",
    "\n",
    "# Filter out tokens\n",
    "dictionary.filter_extremes(no_below=15, no_above=0.5, keep_n=100000)\n",
    "\n",
    "# Generate BoW\n",
    "bow_corpus = [dictionary.doc2bow(doc) for doc in processed_docs]"
   ]
  },
  {
   "cell_type": "code",
   "execution_count": 65,
   "metadata": {},
   "outputs": [
    {
     "name": "stdout",
     "output_type": "stream",
     "text": [
      "Original Document:\n",
      "national rural news\n",
      "['national', 'rural', 'news']\n",
      "\n",
      "Preprocessed Document:\n",
      "['nation', 'rural', 'news']\n",
      "\n",
      "Word 188 (\"nation\") appears 1 time.\n",
      "Word 1253 (\"rural\") appears 1 time.\n",
      "Word 1257 (\"news\") appears 1 time.\n"
     ]
    }
   ],
   "source": [
    "import random\n",
    "\n",
    "doc_idx = random.randint(0, len(documents) - 1)\n",
    "\n",
    "doc_sample = documents[documents['index'] == doc_idx].values[0][0]\n",
    "\n",
    "print('Original Document:')\n",
    "print(doc_sample)\n",
    "print([word for word in doc_sample.split(' ')])\n",
    "print()\n",
    "\n",
    "print('Preprocessed Document:')\n",
    "print(preprocess(doc_sample))\n",
    "print()\n",
    "\n",
    "# print('BoW Model for Document:')\n",
    "# print(bow_corpus[doc_idx])\n",
    "\n",
    "bow_doc_sample = bow_corpus[doc_idx]\n",
    "for i in range(len(bow_doc_sample)):\n",
    "    print(\"Word {} (\\\"{}\\\") appears {} time.\".format(bow_doc_sample[i][0], \n",
    "                                               dictionary[bow_doc_sample[i][0]], \n",
    "bow_doc_sample[i][1]))"
   ]
  },
  {
   "cell_type": "markdown",
   "metadata": {},
   "source": [
    "## LDA with BoW Model"
   ]
  },
  {
   "cell_type": "markdown",
   "metadata": {},
   "source": [
    "Generate the LDA model:"
   ]
  },
  {
   "cell_type": "code",
   "execution_count": 66,
   "metadata": {},
   "outputs": [],
   "source": [
    "lda_model = gensim.models.LdaMulticore(\n",
    "    bow_corpus, \n",
    "    num_topics=10, \n",
    "    id2word=dictionary, \n",
    "    passes=2, \n",
    "    workers=2\n",
    ")"
   ]
  },
  {
   "cell_type": "markdown",
   "metadata": {},
   "source": [
    "Check the topics' word list:"
   ]
  },
  {
   "cell_type": "code",
   "execution_count": 67,
   "metadata": {},
   "outputs": [
    {
     "name": "stdout",
     "output_type": "stream",
     "text": [
      "Topic: 0 \n",
      "Words: 0.026*\"market\" + 0.022*\"school\" + 0.015*\"investig\" + 0.015*\"speak\" + 0.015*\"interview\" + 0.013*\"fall\" + 0.013*\"student\" + 0.011*\"scott\" + 0.011*\"share\" + 0.010*\"build\"\n",
      "Topic: 1 \n",
      "Words: 0.020*\"donald\" + 0.019*\"plan\" + 0.018*\"canberra\" + 0.015*\"water\" + 0.014*\"chang\" + 0.013*\"council\" + 0.012*\"feder\" + 0.010*\"drum\" + 0.010*\"industri\" + 0.010*\"park\"\n",
      "Topic: 2 \n",
      "Words: 0.054*\"australia\" + 0.025*\"world\" + 0.017*\"open\" + 0.015*\"tasmania\" + 0.015*\"final\" + 0.013*\"win\" + 0.011*\"australian\" + 0.011*\"break\" + 0.011*\"game\" + 0.010*\"record\"\n",
      "Topic: 3 \n",
      "Words: 0.029*\"queensland\" + 0.021*\"help\" + 0.019*\"report\" + 0.017*\"miss\" + 0.016*\"royal\" + 0.015*\"tasmanian\" + 0.015*\"bushfir\" + 0.015*\"bank\" + 0.014*\"street\" + 0.013*\"victoria\"\n",
      "Topic: 4 \n",
      "Words: 0.023*\"news\" + 0.022*\"women\" + 0.021*\"live\" + 0.020*\"warn\" + 0.020*\"coast\" + 0.019*\"health\" + 0.016*\"rural\" + 0.016*\"countri\" + 0.013*\"gold\" + 0.012*\"return\"\n",
      "Topic: 5 \n",
      "Words: 0.053*\"polic\" + 0.050*\"say\" + 0.024*\"kill\" + 0.023*\"attack\" + 0.021*\"crash\" + 0.018*\"die\" + 0.017*\"shoot\" + 0.017*\"perth\" + 0.014*\"woman\" + 0.014*\"arrest\"\n",
      "Topic: 6 \n",
      "Words: 0.014*\"show\" + 0.013*\"liber\" + 0.012*\"morrison\" + 0.012*\"young\" + 0.011*\"station\" + 0.010*\"christma\" + 0.010*\"beach\" + 0.010*\"train\" + 0.010*\"research\" + 0.009*\"shark\"\n",
      "Topic: 7 \n",
      "Words: 0.034*\"elect\" + 0.032*\"govern\" + 0.025*\"china\" + 0.015*\"rise\" + 0.012*\"million\" + 0.011*\"citi\" + 0.011*\"trade\" + 0.011*\"presid\" + 0.010*\"farm\" + 0.010*\"deal\"\n",
      "Topic: 8 \n",
      "Words: 0.040*\"trump\" + 0.033*\"year\" + 0.030*\"charg\" + 0.027*\"court\" + 0.025*\"murder\" + 0.018*\"face\" + 0.016*\"jail\" + 0.015*\"accus\" + 0.014*\"death\" + 0.014*\"peopl\"\n",
      "Topic: 9 \n",
      "Words: 0.020*\"south\" + 0.018*\"adelaid\" + 0.017*\"north\" + 0.014*\"labor\" + 0.014*\"hospit\" + 0.011*\"protest\" + 0.011*\"west\" + 0.011*\"worker\" + 0.010*\"state\" + 0.010*\"stori\"\n"
     ]
    }
   ],
   "source": [
    "for idx, topic in lda_model.print_topics(-1):\n",
    "    print('Topic: {} \\nWords: {}'.format(idx, topic))"
   ]
  },
  {
   "cell_type": "markdown",
   "metadata": {},
   "source": [
    "Classifying a document:"
   ]
  },
  {
   "cell_type": "code",
   "execution_count": 69,
   "metadata": {},
   "outputs": [
    {
     "name": "stdout",
     "output_type": "stream",
     "text": [
      "\n",
      "Score: 0.7749938368797302\t \n",
      "Topic: 0.023*\"news\" + 0.022*\"women\" + 0.021*\"live\" + 0.020*\"warn\" + 0.020*\"coast\" + 0.019*\"health\" + 0.016*\"rural\" + 0.016*\"countri\" + 0.013*\"gold\" + 0.012*\"return\"\n",
      "\n",
      "Score: 0.025001784786581993\t \n",
      "Topic: 0.034*\"elect\" + 0.032*\"govern\" + 0.025*\"china\" + 0.015*\"rise\" + 0.012*\"million\" + 0.011*\"citi\" + 0.011*\"trade\" + 0.011*\"presid\" + 0.010*\"farm\" + 0.010*\"deal\"\n",
      "\n",
      "Score: 0.02500169351696968\t \n",
      "Topic: 0.020*\"donald\" + 0.019*\"plan\" + 0.018*\"canberra\" + 0.015*\"water\" + 0.014*\"chang\" + 0.013*\"council\" + 0.012*\"feder\" + 0.010*\"drum\" + 0.010*\"industri\" + 0.010*\"park\"\n",
      "\n",
      "Score: 0.025001127272844315\t \n",
      "Topic: 0.020*\"south\" + 0.018*\"adelaid\" + 0.017*\"north\" + 0.014*\"labor\" + 0.014*\"hospit\" + 0.011*\"protest\" + 0.011*\"west\" + 0.011*\"worker\" + 0.010*\"state\" + 0.010*\"stori\"\n",
      "\n",
      "Score: 0.02500048466026783\t \n",
      "Topic: 0.054*\"australia\" + 0.025*\"world\" + 0.017*\"open\" + 0.015*\"tasmania\" + 0.015*\"final\" + 0.013*\"win\" + 0.011*\"australian\" + 0.011*\"break\" + 0.011*\"game\" + 0.010*\"record\"\n",
      "\n",
      "Score: 0.02500022016465664\t \n",
      "Topic: 0.026*\"market\" + 0.022*\"school\" + 0.015*\"investig\" + 0.015*\"speak\" + 0.015*\"interview\" + 0.013*\"fall\" + 0.013*\"student\" + 0.011*\"scott\" + 0.011*\"share\" + 0.010*\"build\"\n",
      "\n",
      "Score: 0.02500022016465664\t \n",
      "Topic: 0.029*\"queensland\" + 0.021*\"help\" + 0.019*\"report\" + 0.017*\"miss\" + 0.016*\"royal\" + 0.015*\"tasmanian\" + 0.015*\"bushfir\" + 0.015*\"bank\" + 0.014*\"street\" + 0.013*\"victoria\"\n",
      "\n",
      "Score: 0.02500022016465664\t \n",
      "Topic: 0.053*\"polic\" + 0.050*\"say\" + 0.024*\"kill\" + 0.023*\"attack\" + 0.021*\"crash\" + 0.018*\"die\" + 0.017*\"shoot\" + 0.017*\"perth\" + 0.014*\"woman\" + 0.014*\"arrest\"\n",
      "\n",
      "Score: 0.02500022016465664\t \n",
      "Topic: 0.014*\"show\" + 0.013*\"liber\" + 0.012*\"morrison\" + 0.012*\"young\" + 0.011*\"station\" + 0.010*\"christma\" + 0.010*\"beach\" + 0.010*\"train\" + 0.010*\"research\" + 0.009*\"shark\"\n",
      "\n",
      "Score: 0.02500022016465664\t \n",
      "Topic: 0.040*\"trump\" + 0.033*\"year\" + 0.030*\"charg\" + 0.027*\"court\" + 0.025*\"murder\" + 0.018*\"face\" + 0.016*\"jail\" + 0.015*\"accus\" + 0.014*\"death\" + 0.014*\"peopl\"\n"
     ]
    }
   ],
   "source": [
    "for index, score in sorted(lda_model[bow_corpus[doc_idx]], key=lambda tup: -1*tup[1]):\n",
    "    print(\"\\nScore: {}\\t \\nTopic: {}\".format(score, lda_model.print_topic(index, 10)))"
   ]
  }
 ],
 "metadata": {
  "kernelspec": {
   "display_name": "Python 3",
   "language": "python",
   "name": "python3"
  },
  "language_info": {
   "codemirror_mode": {
    "name": "ipython",
    "version": 3
   },
   "file_extension": ".py",
   "mimetype": "text/x-python",
   "name": "python",
   "nbconvert_exporter": "python",
   "pygments_lexer": "ipython3",
   "version": "3.8.5"
  }
 },
 "nbformat": 4,
 "nbformat_minor": 4
}
