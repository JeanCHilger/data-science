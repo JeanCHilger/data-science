{
 "cells": [
  {
   "cell_type": "markdown",
   "metadata": {},
   "source": [
    "Class link [here](https://youtu.be/8rXD5-xhemo).\n",
    "\n",
    "# Meaning\n",
    "\n",
    "Meaning can be interpreted as an idea or concept that may be represented by a word. Human knowledge is mostly enconded as words.\n",
    " \n",
    " **TODO:**\n",
    " - speak about importance of representing meaning in a computer (computers are more powerfull than humans);\n",
    " - speak about denotational meaning and distributional meaning.\n",
    "\n",
    "## Representing Meaning\n",
    "\n",
    "### One-hot enconding (localist representation)\n",
    "\n",
    "A vector filled with zeros, with a one in the position that represents the word.\n",
    "\n",
    "### Word vectors (distributed representation)\n",
    "\n",
    "Vectors with X dimentions that may encode the meaning of the words in a vector space. In this context, similar words would be close to each other in the vector space, whereas distinct words would be distant.\n",
    "\n",
    "## The Word2Vec algorithm\n",
    "- brief explanation\n",
    "- implementation example"
   ]
  },
  {
   "cell_type": "code",
   "execution_count": null,
   "metadata": {},
   "outputs": [],
   "source": []
  },
  {
   "cell_type": "markdown",
   "metadata": {},
   "source": [
    "# Useful Resources\n",
    "- [Word2Vec Tutorial Part 1- The Skip-Gram Model](http://mccormickml.com/2016/04/19/word2vec-tutorial-the-skip-gram-model/)\n",
    "- [Word2Vec Tutorial Part 2 - Negative Sampling](http://mccormickml.com/2017/01/11/word2vec-tutorial-part-2-negative-sampling/)"
   ]
  }
 ],
 "metadata": {
  "kernelspec": {
   "display_name": "Python 3",
   "language": "python",
   "name": "python3"
  },
  "language_info": {
   "codemirror_mode": {
    "name": "ipython",
    "version": 3
   },
   "file_extension": ".py",
   "mimetype": "text/x-python",
   "name": "python",
   "nbconvert_exporter": "python",
   "pygments_lexer": "ipython3",
   "version": "3.8.2"
  }
 },
 "nbformat": 4,
 "nbformat_minor": 4
}
